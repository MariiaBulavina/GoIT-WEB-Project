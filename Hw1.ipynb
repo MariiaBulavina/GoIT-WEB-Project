{
  "nbformat": 4,
  "nbformat_minor": 0,
  "metadata": {
    "colab": {
      "provenance": [],
      "authorship_tag": "ABX9TyPUPe09ny1IAXtsz0F0FDIR",
      "include_colab_link": true
    },
    "kernelspec": {
      "name": "python3",
      "display_name": "Python 3"
    },
    "language_info": {
      "name": "python"
    }
  },
  "cells": [
    {
      "cell_type": "markdown",
      "metadata": {
        "id": "view-in-github",
        "colab_type": "text"
      },
      "source": [
        "<a href=\"https://colab.research.google.com/github/MariiaBulavina/GoIT-WEB-Project/blob/main/Hw1.ipynb\" target=\"_parent\"><img src=\"https://colab.research.google.com/assets/colab-badge.svg\" alt=\"Open In Colab\"/></a>"
      ]
    },
    {
      "cell_type": "code",
      "execution_count": 3,
      "metadata": {
        "id": "F1cSfl3WhHuG"
      },
      "outputs": [],
      "source": [
        "import numpy as np"
      ]
    },
    {
      "cell_type": "markdown",
      "source": [
        "1. Створіть одновимірний масив (вектор) з першими 10-ма натуральними числами та виведіть його значення."
      ],
      "metadata": {
        "id": "mu-9XimxjzCq"
      }
    },
    {
      "cell_type": "code",
      "source": [
        "vector = np.arange(1, 11)\n",
        "print(vector)"
      ],
      "metadata": {
        "colab": {
          "base_uri": "https://localhost:8080/"
        },
        "id": "LlDB_Bcoj1sZ",
        "outputId": "ef64fba5-679a-444a-9525-612d16eb506b"
      },
      "execution_count": 4,
      "outputs": [
        {
          "output_type": "stream",
          "name": "stdout",
          "text": [
            "[ 1  2  3  4  5  6  7  8  9 10]\n"
          ]
        }
      ]
    },
    {
      "cell_type": "markdown",
      "source": [
        "2. Створіть двовимірний масив (матрицю) розміром 3x3, заповніть його нулями та виведіть його значення"
      ],
      "metadata": {
        "id": "99vvFerTkY4w"
      }
    },
    {
      "cell_type": "code",
      "source": [
        "matrix = np.zeros((3, 3))\n",
        "print(matrix)"
      ],
      "metadata": {
        "colab": {
          "base_uri": "https://localhost:8080/"
        },
        "id": "MQ_kxNz4ke9V",
        "outputId": "0a96213a-e653-47c9-8ed7-2fdfa7ceeca1"
      },
      "execution_count": 5,
      "outputs": [
        {
          "output_type": "stream",
          "name": "stdout",
          "text": [
            "[[0. 0. 0.]\n",
            " [0. 0. 0.]\n",
            " [0. 0. 0.]]\n"
          ]
        }
      ]
    },
    {
      "cell_type": "markdown",
      "source": [
        "3. Створіть масив розміром 5x5, заповніть його випадковими цілими числами в діапазоні від 1 до 10 та виведіть його значення."
      ],
      "metadata": {
        "id": "aW07rpdgk0sf"
      }
    },
    {
      "cell_type": "code",
      "source": [
        "array = np.random.randint(1, 11, (5, 5))\n",
        "print(array)"
      ],
      "metadata": {
        "colab": {
          "base_uri": "https://localhost:8080/"
        },
        "id": "iTojm-3Jk11q",
        "outputId": "791b4300-2940-4840-90ac-d5385288ebaf"
      },
      "execution_count": 9,
      "outputs": [
        {
          "output_type": "stream",
          "name": "stdout",
          "text": [
            "[[ 2  1 10  9  8]\n",
            " [ 6  3  6  2  7]\n",
            " [ 7  4  2  3  8]\n",
            " [10  3  5  6  3]\n",
            " [ 3  9  1  4  1]]\n"
          ]
        }
      ]
    },
    {
      "cell_type": "markdown",
      "source": [
        "4. Створіть масив розміром 4x4, заповніть його випадковими дійсними числами в діапазоні від 0 до 1 та виведіть його значення."
      ],
      "metadata": {
        "id": "N1cLjlkvmubI"
      }
    },
    {
      "cell_type": "code",
      "source": [
        "array = np.random.rand(4, 4)\n",
        "print(array)"
      ],
      "metadata": {
        "colab": {
          "base_uri": "https://localhost:8080/"
        },
        "id": "I1-yKQKkm4Bw",
        "outputId": "912efc40-7212-4b0c-cfb0-1ef830bc66ef"
      },
      "execution_count": 10,
      "outputs": [
        {
          "output_type": "stream",
          "name": "stdout",
          "text": [
            "[[0.70344287 0.85067421 0.2282892  0.47870985]\n",
            " [0.43878014 0.29111194 0.29973027 0.23524193]\n",
            " [0.52477651 0.52366473 0.87263274 0.58710612]\n",
            " [0.66935943 0.1869501  0.87374603 0.17939847]]\n"
          ]
        }
      ]
    },
    {
      "cell_type": "markdown",
      "source": [
        "5. Створіть два одновимірних масиви розміром 5, заповніть їх випадковими цілими числами в діапазоні від 1 до 10 та виконайте на них поелементні операції додавання, віднімання та множення."
      ],
      "metadata": {
        "id": "CUpnK-dQnTJF"
      }
    },
    {
      "cell_type": "code",
      "source": [
        "array1 = np.random.randint(1, 11, 5)\n",
        "array2 = np.random.randint(1, 11, 5)\n",
        "\n",
        "print('Array 1:', array1)\n",
        "print('Array 2:', array2)\n",
        "\n",
        "addition_result = array1 + array2\n",
        "print('\\nAddition result:', addition_result)\n",
        "\n",
        "subtraction_result = array1 - array2\n",
        "print('Subtraction result:', subtraction_result)\n",
        "\n",
        "multiplication_result = array1 * array2\n",
        "print('Multiplication result:', multiplication_result)"
      ],
      "metadata": {
        "colab": {
          "base_uri": "https://localhost:8080/"
        },
        "id": "rPGWsMT_nURg",
        "outputId": "8e55e83c-ae6a-40ac-e71d-8849dd53138b"
      },
      "execution_count": 44,
      "outputs": [
        {
          "output_type": "stream",
          "name": "stdout",
          "text": [
            "Array 1: [ 4  7  7 10  8]\n",
            "Array 2: [6 4 7 8 8]\n",
            "\n",
            "Addition result: [10 11 14 18 16]\n",
            "Subtraction result: [-2  3  0  2  0]\n",
            "Multiplication result: [24 28 49 80 64]\n"
          ]
        }
      ]
    },
    {
      "cell_type": "markdown",
      "source": [
        "6. Створіть два вектори розміром 7, заповніть довільними числами та знайдіть їх скалярний добуток."
      ],
      "metadata": {
        "id": "D-Qw2o1xo0GH"
      }
    },
    {
      "cell_type": "code",
      "source": [
        "vector1 = np.random.randint(1, 100, 7)\n",
        "vector2 = np.random.randint(1, 100, 7)\n",
        "\n",
        "print('Vector 1:', vector1)\n",
        "print('Vector 2:', vector2)\n",
        "\n",
        "scalar_product = np.dot(vector1, vector2)\n",
        "print('\\nScalar product:', scalar_product)"
      ],
      "metadata": {
        "colab": {
          "base_uri": "https://localhost:8080/"
        },
        "id": "wx4poB6Ho1W2",
        "outputId": "0d4c5e3f-a24a-4c2a-b123-54b0ef5901d6"
      },
      "execution_count": 45,
      "outputs": [
        {
          "output_type": "stream",
          "name": "stdout",
          "text": [
            "Vector 1: [42 97 62 23  3 14 49]\n",
            "Vector 2: [69 70 13 77 41 76 15]\n",
            "\n",
            "Scalar product: 14187\n"
          ]
        }
      ]
    },
    {
      "cell_type": "markdown",
      "source": [
        "7. Створіть дві матриці розміром 2x2 та 2x3, заповніть їх випадковими цілими числами в діапазоні від 1 до 10 та перемножте їх між собою."
      ],
      "metadata": {
        "id": "Uuu7EmRAqKvO"
      }
    },
    {
      "cell_type": "code",
      "source": [
        "matrix1 = np.random.randint(1, 11, size=(2, 2))\n",
        "matrix2 = np.random.randint(1, 11, size=(2, 3))\n",
        "\n",
        "print('Matrix 1:\\n', matrix1)\n",
        "print('\\nMatrix 2:\\n', matrix2)\n",
        "\n",
        "result_matrix = np.dot(matrix1, matrix2)\n",
        "print('\\nResult matrix:\\n', result_matrix)"
      ],
      "metadata": {
        "colab": {
          "base_uri": "https://localhost:8080/"
        },
        "id": "0L4w9RA6qPKV",
        "outputId": "a6e16f45-cf53-48d0-c83b-5f6f88941865"
      },
      "execution_count": 46,
      "outputs": [
        {
          "output_type": "stream",
          "name": "stdout",
          "text": [
            "Matrix 1:\n",
            " [[8 6]\n",
            " [2 9]]\n",
            "\n",
            "Matrix 2:\n",
            " [[ 1 10  9]\n",
            " [ 9  9  4]]\n",
            "\n",
            "Result matrix:\n",
            " [[ 62 134  96]\n",
            " [ 83 101  54]]\n"
          ]
        }
      ]
    },
    {
      "cell_type": "markdown",
      "source": [
        "8. Створіть матрицю розміром 3x3, заповніть її випадковими цілими числами в діапазоні від 1 до 10 та знайдіть її обернену матрицю."
      ],
      "metadata": {
        "id": "S5yTXSWxrEqh"
      }
    },
    {
      "cell_type": "code",
      "source": [
        "matrix = np.random.randint(1, 11, size=(3, 3))\n",
        "\n",
        "print('Matrix:\\n', matrix)\n",
        "\n",
        "inverse_matrix = np.linalg.inv(matrix)\n",
        "\n",
        "print('\\nInverse matrix:\\n', inverse_matrix)"
      ],
      "metadata": {
        "colab": {
          "base_uri": "https://localhost:8080/"
        },
        "id": "fBEcFMXhrGRW",
        "outputId": "752f044d-85f1-41ac-948c-a3b4546cdb83"
      },
      "execution_count": 47,
      "outputs": [
        {
          "output_type": "stream",
          "name": "stdout",
          "text": [
            "Matrix:\n",
            " [[10 10  4]\n",
            " [ 5  4  1]\n",
            " [ 3  3  8]]\n",
            "\n",
            "Inverse matrix:\n",
            " [[-4.26470588e-01  1.00000000e+00  8.82352941e-02]\n",
            " [ 5.44117647e-01 -1.00000000e+00 -1.47058824e-01]\n",
            " [-4.41176471e-02 -6.53072367e-17  1.47058824e-01]]\n"
          ]
        }
      ]
    },
    {
      "cell_type": "markdown",
      "source": [
        "9. Створіть матрицю розміром 4x4, заповніть її випадковими дійсними числами в діапазоні від 0 до 1 та транспонуйте її."
      ],
      "metadata": {
        "id": "o9iRhUxmsE6I"
      }
    },
    {
      "cell_type": "code",
      "source": [
        "matrix = np.random.rand(4, 4)\n",
        "\n",
        "print('Matrix:\\n', matrix)\n",
        "\n",
        "transposed_matrix = np.transpose(matrix)\n",
        "\n",
        "print('\\nTransposed matrix:\\n', transposed_matrix)\n"
      ],
      "metadata": {
        "colab": {
          "base_uri": "https://localhost:8080/"
        },
        "id": "9CEPF65isGEo",
        "outputId": "63ab0a92-4333-4669-f492-d3d4b10bc85d"
      },
      "execution_count": 48,
      "outputs": [
        {
          "output_type": "stream",
          "name": "stdout",
          "text": [
            "Matrix:\n",
            " [[0.95684047 0.41273139 0.34869457 0.55379524]\n",
            " [0.27366794 0.01853383 0.44793725 0.75244551]\n",
            " [0.75003047 0.58236511 0.64211554 0.25387811]\n",
            " [0.66055055 0.18558454 0.19754865 0.79993239]]\n",
            "\n",
            "Transposed matrix:\n",
            " [[0.95684047 0.27366794 0.75003047 0.66055055]\n",
            " [0.41273139 0.01853383 0.58236511 0.18558454]\n",
            " [0.34869457 0.44793725 0.64211554 0.19754865]\n",
            " [0.55379524 0.75244551 0.25387811 0.79993239]]\n"
          ]
        }
      ]
    },
    {
      "cell_type": "markdown",
      "source": [
        "10. Створіть матрицю розміром 3x4 та вектор розміром 4, заповніть їх випадковими цілими числами в діапазоні від 1 до 10 та перемножте матрицю на вектор."
      ],
      "metadata": {
        "id": "QiKBLuxAs8Yl"
      }
    },
    {
      "cell_type": "code",
      "source": [
        "matrix = np.random.randint(1, 11, size=(3, 4))\n",
        "\n",
        "print('Matrix:\\n', matrix)\n",
        "\n",
        "vector = np.random.randint(1, 11, size=4)\n",
        "\n",
        "print('\\nVector:\\n', vector)\n",
        "\n",
        "result = np.dot(matrix, vector)\n",
        "\n",
        "print('\\nResult:\\n', result)\n"
      ],
      "metadata": {
        "colab": {
          "base_uri": "https://localhost:8080/"
        },
        "id": "GqMFZqKZs_U1",
        "outputId": "5fe532be-4081-46d6-8c26-0ed22d85fe5f"
      },
      "execution_count": 49,
      "outputs": [
        {
          "output_type": "stream",
          "name": "stdout",
          "text": [
            "Matrix:\n",
            " [[ 2  3  3  7]\n",
            " [10  5  5  5]\n",
            " [ 1  6  7  1]]\n",
            "\n",
            "Vector:\n",
            " [ 2  1 10 10]\n",
            "\n",
            "Result:\n",
            " [107 125  88]\n"
          ]
        }
      ]
    },
    {
      "cell_type": "markdown",
      "source": [
        "11. Створіть матрицю розміром 2x3 та вектор розміром 3, заповніть їх випадковими дійсними числами в діапазоні від 0 до 1 та перемножте матрицю на вектор."
      ],
      "metadata": {
        "id": "s5MfSQkdttJU"
      }
    },
    {
      "cell_type": "code",
      "source": [
        "matrix = np.random.rand(2, 3)\n",
        "\n",
        "print('Matrix:\\n', matrix)\n",
        "\n",
        "vector = np.random.rand(3)\n",
        "\n",
        "print('\\nVector:\\n', vector)\n",
        "\n",
        "result = np.dot(matrix, vector)\n",
        "\n",
        "print('\\nResult:\\n', result)"
      ],
      "metadata": {
        "colab": {
          "base_uri": "https://localhost:8080/"
        },
        "id": "OkiVno3AtvTr",
        "outputId": "1e78025d-6913-4f74-fc9c-0be9f0dd3620"
      },
      "execution_count": 50,
      "outputs": [
        {
          "output_type": "stream",
          "name": "stdout",
          "text": [
            "Matrix:\n",
            " [[0.95085465 0.46460101 0.99842966]\n",
            " [0.12132719 0.0909396  0.27346719]]\n",
            "\n",
            "Vector:\n",
            " [0.0977364  0.53080791 0.22049718]\n",
            "\n",
            "Result:\n",
            " [0.55969792 0.12042828]\n"
          ]
        }
      ]
    },
    {
      "cell_type": "markdown",
      "source": [
        "12. Створіть дві матриці розміром 2x2, заповніть їх випадковими цілими числами в діапазоні від 1 до 10 та виконайте їхнє поелементне множення."
      ],
      "metadata": {
        "id": "tF7hBR-SuMQW"
      }
    },
    {
      "cell_type": "code",
      "source": [
        "matrix1 = np.random.randint(1, 11, size=(2, 2))\n",
        "matrix2 = np.random.randint(1, 11, size=(2, 2))\n",
        "\n",
        "print('Matrix 1:\\n', matrix1)\n",
        "print('\\nMatrix 2:\\n', matrix2)\n",
        "\n",
        "result = matrix1 * matrix2\n",
        "\n",
        "print('\\nResult:\\n', result)"
      ],
      "metadata": {
        "colab": {
          "base_uri": "https://localhost:8080/"
        },
        "id": "4yoAL_JHuNzm",
        "outputId": "4edc1961-6dc4-443c-c66a-c42650eb5a5d"
      },
      "execution_count": 51,
      "outputs": [
        {
          "output_type": "stream",
          "name": "stdout",
          "text": [
            "Matrix 1:\n",
            " [[4 6]\n",
            " [7 8]]\n",
            "\n",
            "Matrix 2:\n",
            " [[8 7]\n",
            " [5 6]]\n",
            "\n",
            "Result:\n",
            " [[32 42]\n",
            " [35 48]]\n"
          ]
        }
      ]
    },
    {
      "cell_type": "markdown",
      "source": [
        "13. Створіть дві матриці розміром 2x2, заповніть їх випадковими цілими числами в діапазоні від 1 до 10 та знайдіть їх добуток."
      ],
      "metadata": {
        "id": "ZZw82fDvwqwX"
      }
    },
    {
      "cell_type": "code",
      "source": [
        "matrix1 = np.random.randint(1, 11, size=(2, 2))\n",
        "matrix2 = np.random.randint(1, 11, size=(2, 2))\n",
        "\n",
        "print('Matrix 1:\\n', matrix1)\n",
        "print('\\nMatrix 2:\\n', matrix2)\n",
        "\n",
        "product = np.dot(matrix1, matrix2)\n",
        "\n",
        "print('\\nProduct:\\n', product)"
      ],
      "metadata": {
        "colab": {
          "base_uri": "https://localhost:8080/"
        },
        "id": "HKE6NumMwuay",
        "outputId": "acf679aa-a1a6-4dd4-cb8a-5e0a9fefd14e"
      },
      "execution_count": 52,
      "outputs": [
        {
          "output_type": "stream",
          "name": "stdout",
          "text": [
            "Matrix 1:\n",
            " [[3 1]\n",
            " [6 8]]\n",
            "\n",
            "Matrix 2:\n",
            " [[ 1 10]\n",
            " [ 8 10]]\n",
            "\n",
            "Product:\n",
            " [[ 11  40]\n",
            " [ 70 140]]\n"
          ]
        }
      ]
    },
    {
      "cell_type": "markdown",
      "source": [
        "14. Створіть матрицю розміром 5x5, заповніть її випадковими цілими числами в діапазоні від 1 до 100 та знайдіть суму елементів матриці."
      ],
      "metadata": {
        "id": "8rCzQ2IdxNCB"
      }
    },
    {
      "cell_type": "code",
      "source": [
        "matrix = np.random.randint(1, 101, size=(5, 5))\n",
        "\n",
        "print('Matrix:\\n', matrix)\n",
        "\n",
        "sum = np.sum(matrix)\n",
        "\n",
        "print('\\nSum of matrix elements:', sum)\n"
      ],
      "metadata": {
        "colab": {
          "base_uri": "https://localhost:8080/"
        },
        "id": "jB-GXFQexO4d",
        "outputId": "76502376-cb0f-481d-ea08-90bb33f81eca"
      },
      "execution_count": 53,
      "outputs": [
        {
          "output_type": "stream",
          "name": "stdout",
          "text": [
            "Matrix:\n",
            " [[ 65  90  67  10  50]\n",
            " [ 62  38  73  63  21]\n",
            " [ 14  74  74  25  95]\n",
            " [ 27   3   5  14  62]\n",
            " [ 75 100  59  99  74]]\n",
            "\n",
            "Sum of matrix elements: 1339\n"
          ]
        }
      ]
    },
    {
      "cell_type": "markdown",
      "source": [
        "15. Створіть дві матриці розміром 4x4, заповніть їх випадковими цілими числами в діапазоні від 1 до 10 та знайдіть їхню різницю."
      ],
      "metadata": {
        "id": "C-dNZfeSx77t"
      }
    },
    {
      "cell_type": "code",
      "source": [
        "matrix1 = np.random.randint(1, 11, size=(4, 4))\n",
        "matrix2 = np.random.randint(1, 11, size=(4, 4))\n",
        "\n",
        "print('Matrix 1:\\n', matrix1)\n",
        "print('\\nMatrix 2:\\n', matrix2)\n",
        "\n",
        "result = matrix1 - matrix2\n",
        "\n",
        "print('\\nResult:\\n', result)"
      ],
      "metadata": {
        "colab": {
          "base_uri": "https://localhost:8080/"
        },
        "id": "b3p--DGrx9mc",
        "outputId": "bb932127-f2ca-4a12-960a-ed2351301dca"
      },
      "execution_count": 54,
      "outputs": [
        {
          "output_type": "stream",
          "name": "stdout",
          "text": [
            "Matrix 1:\n",
            " [[ 1  8 10  6]\n",
            " [ 1  6  3  2]\n",
            " [ 5  1  6  1]\n",
            " [ 4 10 10  5]]\n",
            "\n",
            "Matrix 2:\n",
            " [[ 2  8  4  2]\n",
            " [ 4  6  9  6]\n",
            " [ 2 10  6  8]\n",
            " [ 2  8  6  8]]\n",
            "\n",
            "Result:\n",
            " [[-1  0  6  4]\n",
            " [-3  0 -6 -4]\n",
            " [ 3 -9  0 -7]\n",
            " [ 2  2  4 -3]]\n"
          ]
        }
      ]
    },
    {
      "cell_type": "markdown",
      "source": [
        "16. Створіть матрицю розміром 3x3, заповніть її випадковими дійсними числами в діапазоні від 0 до 1 та знайдіть вектор-стовпчик, що містить суму елементів кожного рядка матриці."
      ],
      "metadata": {
        "id": "BgpVRE9HyUcT"
      }
    },
    {
      "cell_type": "code",
      "source": [
        "matrix = np.random.rand(3, 3)\n",
        "\n",
        "print('Matrix:\\n', matrix)\n",
        "\n",
        "sum = np.sum(matrix, axis=1)\n",
        "column_vectorn = sum.reshape(-1, 1)\n",
        "\n",
        "print('\\nColumn vector:\\n', column_vectorn)"
      ],
      "metadata": {
        "colab": {
          "base_uri": "https://localhost:8080/"
        },
        "id": "3Xz1Wk4EyWXe",
        "outputId": "7a20a78b-733e-4203-d437-cde7fabf4f74"
      },
      "execution_count": 55,
      "outputs": [
        {
          "output_type": "stream",
          "name": "stdout",
          "text": [
            "Matrix:\n",
            " [[0.6357408  0.01071921 0.69880079]\n",
            " [0.06073265 0.35673393 0.34791422]\n",
            " [0.8705795  0.35272336 0.26991618]]\n",
            "\n",
            "Column vector:\n",
            " [[1.3452608 ]\n",
            " [0.7653808 ]\n",
            " [1.49321904]]\n"
          ]
        }
      ]
    },
    {
      "cell_type": "markdown",
      "source": [
        "17. Створіть матрицю розміром 3x4 з довільними цілими числами і створінь матрицю з квадратами цих чисел."
      ],
      "metadata": {
        "id": "ToPTbd5x2BRr"
      }
    },
    {
      "cell_type": "code",
      "source": [
        "matrix = np.random.randint(1, 100, size=(3, 4))\n",
        "\n",
        "print('Matrix:\\n', matrix)\n",
        "\n",
        "squared_matrix = np.square(matrix)\n",
        "\n",
        "print('\\nSquared matrix:\\n', squared_matrix)"
      ],
      "metadata": {
        "colab": {
          "base_uri": "https://localhost:8080/"
        },
        "id": "tfUSOtM92C0-",
        "outputId": "3bf2d6e9-3059-4335-e700-9dd96ae962bd"
      },
      "execution_count": 56,
      "outputs": [
        {
          "output_type": "stream",
          "name": "stdout",
          "text": [
            "Matrix:\n",
            " [[ 2 56 65 68]\n",
            " [ 8 33 48 71]\n",
            " [74 20 91 54]]\n",
            "\n",
            "Squared matrix:\n",
            " [[   4 3136 4225 4624]\n",
            " [  64 1089 2304 5041]\n",
            " [5476  400 8281 2916]]\n"
          ]
        }
      ]
    },
    {
      "cell_type": "markdown",
      "source": [
        "18. Створіть вектор розміром 4, заповніть його випадковими цілими числами в діапазоні від 1 до 50 та знайдіть вектор з квадратними коренями цих чисел."
      ],
      "metadata": {
        "id": "OUMIkoIv2kNw"
      }
    },
    {
      "cell_type": "code",
      "source": [
        "vector = np.random.randint(1, 51, size=4)\n",
        "\n",
        "print('Vector:\\n', vector)\n",
        "\n",
        "sqrt_vector = np.sqrt(vector)\n",
        "\n",
        "print('\\nVector with square roots:\\n', sqrt_vector)"
      ],
      "metadata": {
        "colab": {
          "base_uri": "https://localhost:8080/"
        },
        "id": "PLWpTFuN2mVt",
        "outputId": "5c664de7-c070-4811-cf2f-11cba7ddbf5a"
      },
      "execution_count": 57,
      "outputs": [
        {
          "output_type": "stream",
          "name": "stdout",
          "text": [
            "Vector:\n",
            " [ 5 47 23 30]\n",
            "\n",
            "Vector with square roots:\n",
            " [2.23606798 6.8556546  4.79583152 5.47722558]\n"
          ]
        }
      ]
    }
  ]
}